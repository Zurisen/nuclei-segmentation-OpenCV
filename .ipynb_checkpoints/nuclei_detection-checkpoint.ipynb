{
 "cells": [
  {
   "cell_type": "code",
   "execution_count": 1,
   "id": "e9584594",
   "metadata": {},
   "outputs": [],
   "source": [
    "import os\n",
    "import cv2\n",
    "import numpy as np\n",
    "import glob\n",
    "from PIL import Image, ImageEnhance\n",
    "import pandas as pd\n",
    "from tqdm.notebook import tqdm\n",
    "import matplotlib.pyplot as plt\n",
    "from IPython.display import clear_output\n",
    "from utils import *\n",
    "from copy import deepcopy\n",
    "plt.rcParams['figure.figsize'] = [18, 9]\n",
    "plt.rcParams['font.size'] = 16\n",
    "from skimage.io import imread\n",
    "from skimage import data, io, img_as_float, exposure\n",
    "import plotly.express as px\n",
    "import plotly.graph_objects as go\n",
    "from plotly.subplots import make_subplots\n",
    "import plotly.io as pio\n",
    "import nd2\n",
    "import tifffile"
   ]
  },
  {
   "cell_type": "markdown",
   "id": "5efc3670-acaa-46c8-bd43-80c94c421180",
   "metadata": {},
   "source": [
    "---"
   ]
  },
  {
   "cell_type": "markdown",
   "id": "8eb24ad1-78dd-4a1a-b0a5-0aa5d601cc6e",
   "metadata": {},
   "source": [
    "# Define global variables"
   ]
  },
  {
   "cell_type": "code",
   "execution_count": 2,
   "id": "9d53ee88-ee10-42ed-9789-21d2c1430c76",
   "metadata": {},
   "outputs": [],
   "source": [
    "PATH = \"18-08-2022 ING glu4 irap syntaxin4\"\n",
    "CONTRAST = 13\n",
    "BRIGHTNESS = 0.2\n",
    "SENSITIVITY = 130"
   ]
  },
  {
   "cell_type": "markdown",
   "id": "5fdf9aa6-6090-4177-835c-85a2bfe1bc39",
   "metadata": {},
   "source": [
    "---"
   ]
  },
  {
   "cell_type": "markdown",
   "id": "7bced64c-1e00-412d-a829-5e2a23643a37",
   "metadata": {},
   "source": [
    "# Process images"
   ]
  },
  {
   "cell_type": "code",
   "execution_count": null,
   "id": "24b67f42-40d2-473c-af64-2e26803de283",
   "metadata": {},
   "outputs": [
    {
     "name": "stdout",
     "output_type": "stream",
     "text": [
      "1/45 ... finished processing file 18-08-2022 ING glu4 irap syntaxin4/basal_glut4_irap_syntaxin4_018.nd2\n",
      "2/45 ... finished processing file 18-08-2022 ING glu4 irap syntaxin4/ins_glut4_irap_syntaxin4_003.nd2\n",
      "3/45 ... finished processing file 18-08-2022 ING glu4 irap syntaxin4/basal_glut4_irap_syntaxin4_001.nd2\n",
      "4/45 ... finished processing file 18-08-2022 ING glu4 irap syntaxin4/ins_glut4_irap_syntaxin4_002.nd2\n",
      "5/45 ... finished processing file 18-08-2022 ING glu4 irap syntaxin4/ins_glut4_irap_syntaxin4_008.nd2\n",
      "6/45 ... finished processing file 18-08-2022 ING glu4 irap syntaxin4/basal_glut4_irap_syntaxin4_020.nd2\n",
      "7/45 ... finished processing file 18-08-2022 ING glu4 irap syntaxin4/ins_glut4_irap_syntaxin4_010.nd2\n",
      "8/45 ... finished processing file 18-08-2022 ING glu4 irap syntaxin4/basal_glut4_irap_syntaxin4_017.nd2\n",
      "9/45 ... finished processing file 18-08-2022 ING glu4 irap syntaxin4/basal_glut4_irap_syntaxin4_011.nd2\n",
      "10/45 ... finished processing file 18-08-2022 ING glu4 irap syntaxin4/basal_glut4_irap_syntaxin4_015.nd2\n"
     ]
    }
   ],
   "source": [
    "files_names = os.listdir(PATH)  \n",
    "\n",
    "for num, file_name in enumerate(files_names):\n",
    "    if \".ipynb\" in file_name:\n",
    "        print(\"continue...\")\n",
    "        continue\n",
    "    file_name = os.path.join(PATH, file_name)\n",
    "    #im = imread(os.path.join(PATH, file_name), plugin=\"tifffile\")\n",
    "    try:\n",
    "        im = nd2.imread(file_name)\n",
    "    except:\n",
    "        print(f\"file {file_name} cannot be read\")\n",
    "        continue\n",
    "    im = np.rollaxis(im, 0,3)\n",
    "\n",
    "    size = im.shape[1]\n",
    "    n_channels = im.shape[2]\n",
    "\n",
    "    channel_images = process_channels(im, file_name, clip_limit=0.03, \n",
    "                                      contrast=CONTRAST, brightness=BRIGHTNESS)\n",
    "\n",
    "    # Mask extraction\n",
    "\n",
    "    sensitivities = [SENSITIVITY for i in range(n_channels)]\n",
    "\n",
    "    channel_names = [f\"Channel {i+1}\" for i in range(n_channels)]\n",
    "\n",
    "    detections = {}\n",
    "    for i in channel_names:\n",
    "            detections[i] = 0\n",
    "\n",
    "    fig = make_subplots(rows=1,cols=n_channels, shared_xaxes=\"all\", \n",
    "                        shared_yaxes=\"all\",\n",
    "                        subplot_titles = (channel_names))\n",
    "\n",
    "\n",
    "    df_RGB = pd.DataFrame(columns = [\"File\", \"Channel\", \"#\", \"Intensity\", \"AreaPx\", \"Areamic\", \"Protein\", \"Type\"])\n",
    "\n",
    "    for j, image in enumerate(channel_images):\n",
    "        colors = [\"#00FF00\", \"#FF00FF\", \"#00BFFF\"]\n",
    "\n",
    "        ch_image = px.imshow(image,\n",
    "                             color_continuous_scale='gray',\n",
    "                             binary_string=True, binary_backend=\"jpg\")\n",
    "\n",
    "        fig = fig.add_trace(ch_image.data[0],\n",
    "                           row=1, col=j+1)\n",
    "\n",
    "        fig.update_layout(coloraxis_showscale=False)\n",
    "        fig.update_xaxes(showticklabels=False)\n",
    "        fig.update_yaxes(showticklabels=False)\n",
    "\n",
    "        mask, contours, hierarchy = extract_masks(image, sensitivities[j], dilation=False)\n",
    "        detections[channel_names[j]] = len(contours)\n",
    "\n",
    "        for i in range(len(contours)):\n",
    "\n",
    "            contour_im = cv2.drawContours(deepcopy(mask) , contours, i, (255,0,0),-1, hierarchy=hierarchy, maxLevel = 0)\n",
    "\n",
    "            contour_idx = np.where(contour_im.flatten()<250)\n",
    "            noncontour_idx = np.where(contour_im.flatten()>250)\n",
    "\n",
    "            cropped_mask = deepcopy(image.reshape(-1))\n",
    "            cropped_mask[contour_idx] = 0 \n",
    "\n",
    "            intensity = int(np.round(np.median(cropped_mask[noncontour_idx])))\n",
    "            area_px = len(cropped_mask[noncontour_idx])\n",
    "            if area_px>300:\n",
    "                continue\n",
    "            area_si = np.round(area_px*(0.12**2), decimals=4)\n",
    "            \n",
    "            protein_list = sorted(file_name.replace(\"-\",\"_\").split(\"/\")[-1].split(\"_\")[1:-1])\n",
    "            proteins = \"\"\n",
    "            for protein in protein_list:\n",
    "                proteins += \"+\"+protein\n",
    "\n",
    "            new_entry = pd.DataFrame(\n",
    "                {\"File\" : pd.Series(file_name, dtype=\"string\"),\n",
    "                 \"Channel\" : pd.Series(j, dtype=\"int\"),\n",
    "                \"#\": pd.Series(i, dtype=\"int\"),\n",
    "                \"Intensity\": pd.Series(intensity, dtype=\"int\"),\n",
    "                \"AreaPx\": pd.Series(area_px, dtype=\"int\"),\n",
    "                \"Areamic\": pd.Series(area_si, dtype=\"float\"),\n",
    "                \"Type\": pd.Series(file_name.replace(\"-\",\"_\").split(\"/\")[-1].split(\"_\")[0], dtype=\"string\"),\n",
    "                \"Protein\": pd.Series(proteins, dtype=\"string\")})\n",
    "\n",
    "            df_RGB = pd.concat([df_RGB, new_entry], ignore_index=True)\n",
    "\n",
    "            cropped_mask = cropped_mask.reshape(size,size)\n",
    "\n",
    "            x_con = contours[i].reshape(contours[i].shape[0],-1)[:,0]\n",
    "            y_con = contours[i].reshape(contours[i].shape[0],-1)[:,1]\n",
    "            hoverinfo = f\"Intensity: {intensity}/255<br>Area: {area_px} px | {area_si} μm²\"\n",
    "            fig.add_scatter(x=x_con, y=y_con, \n",
    "                            mode=\"lines\",\n",
    "                            fill=\"toself\",\n",
    "                            line=dict(color=colors[j]),\n",
    "                            showlegend=False,\n",
    "                            hovertemplate=hoverinfo,\n",
    "                            hoveron=\"points+fills\",\n",
    "                            name=f\"#{i+1}\",\n",
    "                            row=1, col=j+1\n",
    "                           )\n",
    "        fig.layout.annotations[j].update(y=0.9)\n",
    "    fig.for_each_annotation(lambda a: a.update(text = a.text + \"    #Detections: \"+str(detections[a.text])))\n",
    "    fig['layout'].update(height=image.shape[1]*0.8, \n",
    "                         width=image.shape[1]*1.7)\n",
    "\n",
    "    #fig.show()\n",
    "\n",
    "\n",
    "    if not os.path.exists(os.path.join(\"results\", file_name)):\n",
    "        os.mkdir(os.path.join(\"results\", file_name))\n",
    "\n",
    "\n",
    "    df_RGB.to_csv(f\"results/{file_name}/info.csv\")\n",
    "    fig.write_html(f\"results/{file_name}/detections.html\")\n",
    "    \n",
    "    print(f\"{num+1}/{len(files_names)} ... finished processing file {file_name}\")"
   ]
  },
  {
   "cell_type": "markdown",
   "id": "676228c6-aa48-4153-ad52-5694e7be6c16",
   "metadata": {},
   "source": [
    "-----"
   ]
  },
  {
   "cell_type": "markdown",
   "id": "eda517f5-b155-46c5-a4d8-de5ea97ca6a6",
   "metadata": {},
   "source": [
    "# Compute statistics"
   ]
  },
  {
   "cell_type": "code",
   "execution_count": null,
   "id": "0e5a28e2-6f36-4c69-9b3e-55d1f83436b0",
   "metadata": {},
   "outputs": [],
   "source": [
    "import glob\n",
    "import plotly.graph_objects as go\n",
    "import plotly.express as px\n",
    "pio.renderers.default='svg'\n",
    "                         \n",
    "\n",
    "images_list = glob.glob(f\"results/{PATH}/*/*.csv\")\n",
    "# If you want to show results for all kind of proteins inside PATH folder, set protein = None\n",
    "compute_statistics(images_list, protein = \"glut4+irap+syntaxin4\", tag = PATH)"
   ]
  },
  {
   "cell_type": "code",
   "execution_count": null,
   "id": "7e7ba833-f5e1-4994-b94d-2924cee44177",
   "metadata": {},
   "outputs": [],
   "source": []
  }
 ],
 "metadata": {
  "kernelspec": {
   "display_name": "Python 3 (ipykernel)",
   "language": "python",
   "name": "python3"
  },
  "language_info": {
   "codemirror_mode": {
    "name": "ipython",
    "version": 3
   },
   "file_extension": ".py",
   "mimetype": "text/x-python",
   "name": "python",
   "nbconvert_exporter": "python",
   "pygments_lexer": "ipython3",
   "version": "3.9.7"
  }
 },
 "nbformat": 4,
 "nbformat_minor": 5
}
